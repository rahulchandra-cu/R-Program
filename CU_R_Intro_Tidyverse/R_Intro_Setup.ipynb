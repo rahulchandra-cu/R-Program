{
  "nbformat": 4,
  "nbformat_minor": 0,
  "metadata": {
    "colab": {
      "provenance": [],
      "authorship_tag": "ABX9TyPeE6bDf+eIYD4Xb/uo19tG",
      "include_colab_link": true
    },
    "kernelspec": {
      "name": "ir",
      "display_name": "R"
    },
    "language_info": {
      "name": "R"
    }
  },
  "cells": [
    {
      "cell_type": "markdown",
      "metadata": {
        "id": "view-in-github",
        "colab_type": "text"
      },
      "source": [
        "<a href=\"https://colab.research.google.com/github/rahulchandra-cu/R-Program/blob/main/CU_R_Intro_Tidyverse/R_Intro_Setup.ipynb\" target=\"_parent\"><img src=\"https://colab.research.google.com/assets/colab-badge.svg\" alt=\"Open In Colab\"/></a>"
      ]
    },
    {
      "cell_type": "code",
      "execution_count": null,
      "metadata": {
        "id": "-PbkZapCkUvH"
      },
      "outputs": [],
      "source": []
    },
    {
      "cell_type": "markdown",
      "source": [
        "**Installing R and RStudio**\n",
        "\n",
        "\n",
        "# Download and install R from CRAN\n",
        "\n",
        "Following the instructions given in the book section you just read.\n",
        "\n",
        "https://cran.r-project.org/\n",
        "\n",
        "Do this to get the latest version even if you previously have installed R.\n",
        "\n",
        "# Download and install RStudio (the free desktop version).\n",
        "\n",
        "https://rstudio.com/\n",
        "\n",
        "https://posit.co/downloads/\n",
        "\n",
        " Again, do this to get the latest version. Open RStudio"
      ],
      "metadata": {
        "id": "DILXrG9EkaFd"
      }
    }
  ]
}