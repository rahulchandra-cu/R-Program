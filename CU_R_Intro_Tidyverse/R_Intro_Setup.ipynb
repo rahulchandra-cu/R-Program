{
  "nbformat": 4,
  "nbformat_minor": 0,
  "metadata": {
    "colab": {
      "provenance": [],
      "authorship_tag": "ABX9TyME+aKQBfljHqqL1ihZu+3x",
      "include_colab_link": true
    },
    "kernelspec": {
      "name": "ir",
      "display_name": "R"
    },
    "language_info": {
      "name": "R"
    }
  },
  "cells": [
    {
      "cell_type": "markdown",
      "metadata": {
        "id": "view-in-github",
        "colab_type": "text"
      },
      "source": [
        "<a href=\"https://colab.research.google.com/github/rahulchandra-cu/R-Program/blob/main/CU_R_Intro_Tidyverse/R_Intro_Setup.ipynb\" target=\"_parent\"><img src=\"https://colab.research.google.com/assets/colab-badge.svg\" alt=\"Open In Colab\"/></a>"
      ]
    },
    {
      "cell_type": "code",
      "execution_count": 2,
      "metadata": {
        "id": "-PbkZapCkUvH"
      },
      "outputs": [],
      "source": []
    },
    {
      "cell_type": "markdown",
      "source": [
        "**Installing R and RStudio**\n",
        "\n",
        "\n",
        "# Download and install R from CRAN\n",
        "\n",
        "Following the instructions given in the book section you just read.\n",
        "\n",
        "https://cran.r-project.org/\n",
        "\n",
        "Do this to get the latest version even if you previously have installed R.\n",
        "\n",
        "# Download and install RStudio (the free desktop version).\n",
        "\n",
        "https://rstudio.com/\n",
        "\n",
        "https://posit.co/downloads/\n",
        "\n",
        " Again, do this to get the latest version. Open RStudio"
      ],
      "metadata": {
        "id": "DILXrG9EkaFd"
      }
    },
    {
      "cell_type": "markdown",
      "source": [
        "\n",
        "\n",
        "# Book\n",
        "\n",
        "https://r4ds.had.co.nz/\n",
        "https://r4ds.hadley.nz/intro\n",
        "\n",
        "https://github.com/hadley/r4ds\n",
        "\n",
        "https://stat545.com/r-basics.html\n",
        "\n",
        "BOOKDOWN : https://github.com/rstudio/bookdown\n",
        "\n",
        "\n",
        "\n",
        "# Resources\n",
        "\n",
        "* Stack Overflow : https://stackoverflow.com/questions/tagged/r\n",
        "\n",
        "* Github : https://github.com/\n",
        "\n",
        "* Kaggle : https://www.kaggle.com/datasets\n",
        "\n",
        "* Government datasets : https://catalog.data.gov/dataset\n",
        "\n"
      ],
      "metadata": {
        "id": "GVD-FAcloc9e"
      }
    },
    {
      "cell_type": "markdown",
      "source": [
        "Chapter 1\n",
        "![image.png](data:image/png;base64,iVBORw0KGgoAAAANSUhEUgAAAgUAAAC+CAIAAAAqbOvFAAAAAXNSR0IArs4c6QAAAERlWElmTU0AKgAAAAgAAYdpAAQAAAABAAAAGgAAAAAAA6ABAAMAAAABAAEAAKACAAQAAAABAAACBaADAAQAAAABAAAAvgAAAAAdaU53AAAyz0lEQVR4Ae2deeBV0xbHX0JEJY1KlFSigVJpUCT1lCiFRrMSHk8SSTNJhaZnCBVFRaRUqDSgpDSRSvOgQaFIMr/3+dnefuedO/zu747n3Pu9f/x+++yzh7W/e5+19lprD7n+/e9//00/ISAEhIAQyHgEjg6KwFdffTV79mz+Hjp0KGgCRQoBISAEhIDvEMiXL1+xYsUaN27M30Dic7n0g0WLFvXt23fZsmXNmjUrXrx4/vz5A/MoRggIASEgBPyIwPfff793796ZM2fWqFEDVl+3bl1nK/5PPxgxYsRjjz02YMCAWbNmHXPMMc50CgsBISAEhEB6IPDrr7+OHz++Xr16Y8eOveGGG2yj/qcfzJgxo02bNl988UXJkiXtawWEgBAQAkIgLRHAI1C2bNmBAwfeddddpoF/yQPMRMiKPXv2YCNKy5arUUJACAgBIeBCYNeuXTVr1nz11VeN4egveXDppZe2a9fuxhtvdKXWoxAQAkJACKQxAmPGjJk4ceKcOXNoY5Y8QGuoUKHC/v375TNI415X04SAEBACgQjgSyhSpAieAlYcHcVrlpY2bdpUwiAQKcUIASEgBNIbATg/q0mRAjQzSx7s27dPboP07nK1TggIASEQCgH4P1Yi3mbJgx9++IFNCqGSKl4ICAEhIATSGAH2mZmtx1nyQD8hIASEgBAQApIHGgNCQAgIASGQhYDkgcaBEBACQkAIZCEgeaBxIASEgBAQAlkISB5oHAgBISAEhEAWApIHGgdCQAgIASGQhYDkgcaBEBACQkAIZCEgeaBxIASEgBAQAlkISB5oHAgBISAEhEAWAv93H44gSTMEfvvtt59++onzqn7//fc0a5qakwgEcufOzWk2xx133NFHizMkAmCvl6le93oPRUcfx9YePnwYYRBdduXKTASYN/Bj2CASTjjhhFy5cmUmDhnbatmL0rDrEQbckiphkIZdm6wmMXgYQq7L1ZNVuepJGQKSBymDPnEVoxlgI0pc+So5ExBgCDGQMqGlaqNFQPLAQpEmAeMzSJPGqBkpRQAtgeGUUhJUeVIRkDxIKtxJqExmoiSAnDlVaDhlTl/TUsmDdOtuWYrSrUdT2h4Np5TCn+zKJQ+SjXii62N9SKKrUPmZg4CGU+b0NS2VPMio7lZjhYAQEAIhEZA8CAmNXgiBbBFYtGjR888/H+h0Xb58OfE7d+7kr7mJMNuiIk/AVbe22I8++ujNN9+MPK9SCoEwCEgehAFHr4RANgjs27evR48eH374oStd//79J0yYsGfPHt5+++23rrcxPm7fvt0WO2PGjFGjRsVYoLILAYOA5IFGghCIHoEmTZqwj/ett95yFsH8nWn71VdfXbFixenTpxcrVsz5Nr7hW2+99YknnohvmSotYxHQeRUZ2/VqeBwQyJs372WXXTZz5szBgwdz+I8pkUcCLVu2/OOPP37++We7y5d5/fvvv88KzrJlyzZo0MCkX7du3S+//FK1alWT98cff1y6dGn16tXz5ctHDKJl4cKF33zzTdGiRRs2bFiwYEGTzP7FVOVcArR48eK1a9cee+yxNWvWPOuss2wyyFiyZMnWrVvPPffcypUrW1JtAgWEAAhIP9AwEAIxIdCqVSv4NYzYljJt2rQ6deqUKFHiiy++QEvApsSrl156qUaNGs8+++wbb7zRoUOHZs2aHTlyhPjhw4cPHDjQ5t29ezdZNm/eTAyOgfPOO69Xr14ImO7du1MmDgmb0gTGjh17//33E2YhULt27cj7+uuvU8uFF174+OOPmzSIgcaNG3fq1OmVV1654oorWrRo8cMPP7jK0aMQAAHJAw0DIRATAhdddFGhQoWwC5lS4P4Yi1q3bu0qdOjQoddffz2ehrfffnv+/PkrVqyYO3euK43rsWfPnigfCBWcBB9//DFM/J133nGlsY8UOGfOnMmTJ1M+Xu4HHnhg2LBhRju58847S5UqtXr16tmzZ1MOFPbp08dmVEAIWAQkDywUCgiBaBDgaGgm3UzhsQ6RH97NkdHNmzd3lYXBB4vNqlWriK9QocLKlSsxGbnSOB+xAuEYeOSRR0wknB0jTxjXdJEiRUiJ8oGJiQAyAKlAlk8//RQDVN++fTmylPhTTjnlnnvuQYfQxmMDrP46EZA8cKKhsBCIBgFMRvv370ctIDPGoksvvbRAgQKugoYMGUIMr3Ay33jjjciD/Pnzu9I4HxEq2Jdg3Nddd12tWrXq168fuKrVmb506dLYnTAxVapUCctS7969sUchq1AvSPb3v/+93H9/qA4cVIdhypldYSEAAvInaxgIgVgRwHl76qmnssoIlotUGDNmTGCJeAI++OCDTZs24WlAZiASWDPatWtXV0r0ABODT+Liiy/GzsMKorPPPrtMmTJ169YNfyEBKSl22bJlaAYTJ058+eWX3333XZY/USBeChOw1aGv2LACQsAgIP1AI0EIxIoAbPqqq67CUoRIOPHEE1ECXCVylwBWGqbqZ555JvN9Zv316tXD0E8yVijB+m16rPwmzEokti+w7wz3b/ny5Vmk9PXXX9tkgQGEzYMPPohCULt27W7dulE4+gSOCtQFEkMVfg7zw/P83nvvucRDYIGKyUAEJA8ysNPV5JAIwLhhu3aFaMh0AS8wGWG4Z0kPvoQ8efK43mMagr/jH0Y/QANYs2bNjh07mPWTjL/IgFdfffXgwYPz5s0bOXKkyWv4NT5nVqBu2LCB1UHsc4a2UFYjOP5zzz2HywEfA+agBQsWwPcp/PTTT0dWoYiwbvW7776DDCQT2kx4VcNFvx4zBAHZizKko9XMiBDAzr5x40Z4Jcv/Tz75ZIwqLBs97bTTWEF0ySWX4AcOVQqcl/X+69evD1xZZLKMGzfu7rvvZvLO41FHHYUO0a9fP8IsEoXp33HHHYTh3Rh2UAgIU53h47ByZAPrTXEFoy7gS8CIRALXD3sULopH//zxCgmEusCWBcIICURR+/btEUU0p2nTpjfddJMrux6FAAjkYirEuGRphBmdAsXvCIS3Kvi9dYmmHx76wgsvmJVCrrrg2nbXmOtV5I/0DnpA8eLFmc47czFzx/1LvDOS8IEDB1ALEABmOo8TGKkQZmqP9oCViY+aZHiknaWhLuzdu7dkyZLOyEjChQsXjiSZ0vgXASsCZC/ybyeK8vgjgIX9+OOPd5YLVz3ppJNYtxO7MKBYeCsuBJcwIJ71SIHCgHg2JKOdWAHA7N6GnUTaMP4DhAdZXMKABKw9jUIY2JIVyAQEZC/KhF5WG7NBgGk1BvepU6fihnUuzEc2YOFhuy8iIZsi9FoI+B8B6Qf+70O1IFoEMKHgX8VAz54AjOyc7cNq0SpVqlAe03A2cA0YMIAdvxIG0QKsfD5DQPqBzzpM5MYFAbMJgEMmMKFw8BzKgbWlXH755WwWY3sXp/1g24lLdSpECPgCAckDX3STiIwPAiywmTJlCvYfpv8s48E6BN93FX3bbbfh8mUTL6eEul7pUQikNwKSB+ndv2rdXwiwOYBtwyz6rFatGpfV4DcOBQ1igMMeQr1VvBBIYwQkD9K4c9W0LATY7fXMM89wtCc7A2bNmsXdA8JFCAiBoAhIHgSFRZHpgACn94wYMWLXrl0c7DNo0KDAM+bSoZFqgxCIHwKSB/HDUiV5BgHcxSwNYicXd8WwHTejrgNDH7rmmmvwkLMlzTMdIkL8gYDWm/qjn0RlhAhwQNC11177j3/84+abb+aIN+4hyChhAErsm+vcuTMHYERxClOEICtZuiIgeZCuPZtx7eL6MG59QRvgbkhunsFbEH4rbxoDxEFJnH4xevToNG6jmpYIBCQPEoGqykw2ArgK2EjMwdEc/Y9mEHhaQ7IJSml9qES40Lmh01yGk1JaVLmfEJD/wE+9JVoDEeB4Zw7v5EpIlpNyoVhggsyM4ahULknGcMSlyhkuHTNzAETXaukH0eGmXJ5AAG2AW4g5mJp76iUMXF3SoUMHzsibMGGCK16PQiAUAtIPQiGjeE8jwNFDTz75JDoBl8BwkaSnaU0dcWhObdq0YbmRbkNLXSf4qWbpB37qLdFqEOAWs7Zt26IccB+khEGYUVG5cmV2YnM+R5g0eiUELAKSBxYKBfyBwObNm1lBxDbjN954o1ixYv4gOnVUsvSWG35C3bKZOrpUsxcRkDzwYq+IplAIsNnqyiuvvP3227kXMmOXk4YCJ2g8t3hySutbb70V9K0ihYATAckDJxoKexqBTz/99Oqrr8ZtcN1113maUI8Rh/jE0eIxokSOFxGQPPBir4imQAS45p4r5p966iluog98q5gwCFx88cVr1qzRxdphINIrg4DkgUaCDxBgX9UVV1zBkUSNGjXyAbkeI5ETvBGl77zzjsfoEjmeQ0DywHNdIoJcCHz55ZeYiR5++GFuqnG90mOECHDpG5f/RJhYyTIWAcmDjO16fzScIyhatWrFIhn++oNiT1JZq1atFStWeJI0EeUhBLQfzUOdIVICEShUqNDHH38cGK+YHCHA2dccd7p37152LOcooxJnFALSDzKqu9XYzEWgSpUqrNbN3Par5REgIHkQAUhKIgT8j0C5cuV27Njh/3aoBQlEQPIggeCqaCHgHQROOukknDHeoUeUeBAByQMPdopIEgLxR4BTYDkbPP7lqsQ0QkDyII06U00RAqERQB589913od/rjRD4m+SBBoEQyAgEuE/0+OOPz4imqpHRIiB5EC1yyicEfIXAjz/+mDdvXl+RLGKTjYDkQbIRV31CICUISB6kBHZ/VZqz/WgbNmyYPXt2u3btsEX6q53xpXbbtm0zZswIWibIgM/YsWOrVq1arVq1wDSs+Zs+fTp3vvtFeV+4cCFnyQU2hBgaGLSNQRPnNPKPP/7gVuT333+/SZMmgJnT7ErvQmD37t3ly5d3Rfr9ceXKlYxPtl5zAdx5553XsWNHv3xWIM/2wClTpnBYb/78+T3SETmTB5988gknBzRs2DAl8mDfvn3c/Dd8+PCUc4ctW7ZAhulC1mzw43oWcxw/q7yRBw899NDdd98dlFeuW7cODK+99lq/DNx58+bZo284SojL2e0tNLfeemvQNsZlcL/22mv33HMP13vR3Snv8bi0KLWFINSbNWuWWhriWDsXpvbt23fgwIFnnHHG+eefzyZ2roEjhglrpUqV4lhR4oqCjcAK6JTo5EEi+GHO5EHioImk5J9//pm5QILWSCxfvvzXX3+94IILIqEEiWinzP379+/Tp8/atWs5RdLm5equkiVL2kevBd58803OQC5QoEAkhPX782dSXnjhhaeffnpyrmhHi0IzQNOKhEilyRYBRmw66QePPPLIoEGDkAG33HKLafv27dsRDE2bNuUGPWYt2QKS8gTILdRfjhKJjpJE8MPo5cH+/fu5n4RzdFetWoVeX7p0abjk0UcfvezPH1NIjlTMkycPTWVGzNoG03hEIgHYrrPDvvrqq8WLFyPu2FLPwVtHHZXl1eC4lblz59LBxx133EcffWROXyGe4vlbv359/sbxR0WUVqJEiS5dutx0000EYimcrnLeUIh9ict+ufWXix5tsUuWLAEflFwbg1BB2tWuXdvGJCKAMGBej/QCQ8xW9JoBPKd10SOI53PPPZdWoDieeuqpZcqUQaaiT/BlEkkvV6hQgWI5eZ+mUR1/ScnGKCo98cQTTY2HDx+mo/fs2VOkSBGGE2+PHDnCdA9dhMN2FixYUL169Xz58pGY7Aw2SkYpoS6TncGzadMmblFG+2actGzZEqrOOecc8Adz0jRo0KBw4cJYSz744APIo+oYO9fU66+/Bw4cANWoWU+iG0vHUUXkIx9eMWTIkDvvvNMKA7IzUxk6dOgNN9wwZ84cpIKh+bPPPmPIMWZgLCjxJjJy3sW9EWThgjkGz9atW6GQK6kZsYwxHhmHhmYKZGQytHLnzm2qoEWMOqwFti4oIRLLCrMcM56xiP700098RyYLfzF8MTGFNzJo7QgnnibwisTcdkctsFnGvDnXy8UPOZKEGEZ4vXr1olE7oAYlq3fv3gSy/b388ssQ9/nnn5MStgLKDz74YNGiRWGmAMFxxHfccQeRPMJu+Ix/+eUXUnbu3BkQ69Spg5CA/dFawnzGprrx48dj+2Okkp5X2AfMK1gqdb3++utgSqBNmzZwCgJAydeeLak5TWCn84gfmkA3v/LKK3xC2ZbD7BmqoNaZkv547LHHTAyWJfoPdonRg5KxFJGeAY1BiRFjIDIpzz77bIa4s5wowoy/8L/nnnvO8mIC4EkHIY/D5zJvGY6MZhPetWsXDWH+jsJOgBu4GIunnXYaXY+QYH5A5MiRI0n80ksvEdmzZ8+CBQsi8jGs8ekyM+AVXwjjB0mA8AANRgKywcgMRhS56HRikA1t27alQAjgO6GEe++915Dx9NNPUyx2WCPViGQUIdQpDTL4JEj/zDPP0K3k5XQ8ugCJZfJmzl8QuOyyy6JrbxSDMKdZGISsfWIk9OjRg7suss0+btw4BgN6QGBKRD58lni454033shQYQIKQ2d49OrVy6SPnHe1b98e0cLgrFixIuKEMQm/okBmKsRAA+YByqRAwkz4LD1wvO7du5tXDDnsWow95Adk8L0w7eOVma/wIRDG2w+Lg1qYG3ySih5//HHiaUuHDh0onKlVjRo1iGeeTTx3gbj4IQ1HOlIX7Bd2ylsEAykj+VkREL1+AIkwQcQUfAF+B9f75z//yfyXaRqkABAzNWQmbSAlshFbsGk//Y2x4r777nvxxRdxUDMZR5BwCSJNRZNA+pHSCB4ywjTp1E6dOsFPd+7cCbvBkRuoHMB86X7SR/2jL01eUw58iqnB9ddfj6BmuhF1sbBIYDFwUwhl0kBTGo0CNMydxqoLRMx/bcNtjTltGpMXmzdoYP369VZ3QW8jDaycDwyu+uqrr5pRHjRj0EgmBPhL8IkhAvmYDx48yHTBjFQ4OM1hlJMRscfoBA28JkatnDp1KrkYA/Q7+iX8muHEWB81ahQSC+MG9yTDyocNG0Z25AruBH5MF3hEwCAPEC1mGsi39MADDyCZMGfxlh/D791332W0MGYYgYwohApfFL3MI8KDz9WkzJC/TG8DvxrvtB1hwCyQfoQJ0uOlSpWCJzCurKfKRSp8g4FkJiKuV/AiE8PHhWGTYWAu1Bs9ejTzHjhyixYtSBA575o1axZTQwYzrJnhh8v6iSeeuOuuuxi3SIsXXngBMeOiwfVIXcy3GIrQjAMcGiZNmsTn70wGtdxxDYdkJkpF999/f7du3bj2A9MCreDDJEx6vlP4ITwWDyXcyckP+XAwscJGmEDzgTMlat68OatXmB45KwofjkkeUDTXmpsOQGHnEf3A8ALzyHzEVA+vQUKaMJ8lwoDfv/71L7580qP6AS5vYUbwFBgobWOqSAzYIYFNxpT8RWLHUi9MijEN0zSFMLOgdcyUeUQbACU628iDyZMnozwxpY2luqjz0kzzy2kJMGV4scl11VVXWTWOb4ACnQfmkMy40MnCVIvPg1xoBgySmTNnAgIigXFPxkAa+OpYSmCEAW8RJKREjBl5QJauXbtaEwEJmCjxqRCAsyCosBUYyxXqAloC/v/AKtI7BnnALcrRtZEJJnNPWIzzhzvX+WjD0cUzXTC0mQDsnm8EkU/foRoGks2YsTpu4FsTA3uBd9vbVeG/TO25b9XIA9JEyLuwWxjdlKk9zJrZDKzW8Cu+X6MZhKLBxjOdN4OfbxwvDgZV+8oEUOCg1lifqAiDDcwQwcAwRk4YFkFKgw+fVeC55cyZ8E4bawo8GckK8+HLsu111Rj0MVZ5wPdsyjVSwVrorJQ2b1GC+NotBWg0jBvUPeaqzNTQcewrpm+MPwaEMaxHeD8i4tSWEF0AyXTo0CHyQicEIIeYAgClk+woSkZ/ooFONGi7LYcxythiks7gZsqAqLCvbCCnTcv2mlxG8Pz580351MvgMxN8M5JsvREG0J9sSkBDe4N3o+gwwecDcK5Dw0ZkU2IIgoPwyBwHnQlWxSyGHke/xP5rk5kAVjt0UDMe7CsemQ3ZR9fkF93cvgJ8Y7wyMeZLtm8zIYD6xScWtTOZEULvAKPzB4zORxuOLp4qnB3BTIJysPgZRux8ZcJ0KCIBVT7w84QDolbyM6qhM69RDW1MhLzLJiMjzURE2UojH0vQY+ulL8zgtzE0hIm8c4RjQMNwYhIwfcH0hF8BzdtmcQX4RvBn4GDH0GJfIU6wuCRVHti6wwdcxhzzCC7oic4pJIXQMP4aWUoAk2L4kuP1Fo5DN8O/4E2wJOtOiLF8tBxriTJFOaFAB8QgxmIkdAXmQaifMVYXYXYkEBwZVo4/mUl35MM6sHw+WhvJ9OS9995jWgeAWGyZsPBx2reub97Es8YJRR6bGJoyUgpNETsShcARbEbDjMzAsJE82kFCpPOjtWkUMAhgZzPWhugAYXoUXcbIczFzN3wAhgCvxNXBd8HIdA4DZ2nGqokhF5OIMx6uismReTHCD94dOGYo35k+cWGXmht08NvaecuPKbKNIYBOxofJBAu1G+sZNgZUW6Qgsy5nMhPmc+bHOhGnlswrpxwKzBUYE6t+EFhi0BiULBaQ2OUNGHNhlNCKeYQGYw6z6g+3fvPKzlVDDYigtcQSiQ+TDsBxFEshgXmR+TSQObvlmxg0bTI4GkoiRnZMKLhbsKrZV4kLmPlC5OtNw1NiO4gPAFaOnmsNoyzpCZ+Xt8gMRD4+dj5jfuhSGBKZ2Rlrj8nOh833jxMYXcrEwDIwgACaLZ/PyYYVcCLAqHZqhM5X3gkzBYadwQTw9KAyZvshIAaYcHClNvYD57QAOzOzByIZM9hmYSYUaJrJmGGeEZSZxo6DETMwa+b1lIZsw+4febG0neYwH7IjHGcbRk78rzjYatasSbtMacQELRbJweeA79Dax6CBTwnze9D0oSKT9BXRGUg5fCl0PM7AESNGIP/RD5iMw/25GheBwSuMaPhVUI6cfWxJN6DDCEhsI+MVwEoYd2EAbQh2mkkD8fMgFbBpYk5x0gz3ZJiCiVUPnW8TFEYkRLj5IHIC+A5pKaYJljbiG2RhOGvDMMGF92/T6YgQFpUylSMXa3AhLFA5Y2STBk8SUwdsr7ip+N7wGUROXsamRBgw62I5hpcR+PDDD1mJT89iMs1WGNAQ2D1OXZgjOgRMH96HfRIHFUZz1m6YxrIriMUaRDITxZaCmGElD27YROCAfg9JjE+0fNbLsCKIbyFHFTHC+V5oFEIFwQAOyDxYPAIG4rEU8SmhDxmTMi2icBc/RIFAMYJ/8h2RHsaC1d1OrCMkJknyAFaLuOOHYRcZwKpKs0yTj5+hwByTeTSv6Dy4Q6g+IwFqL54Zl04UYVNTkgxvOQKMvmSxKTYNBCEmESclzGKQ/5iqWHrvjPddmBk6SwYYyqjqjGMWaOHvhX3T3WHagneETxovNAoBUCDpMR0E2q8wICBg8CGjQOCAYZ0SRjZjNAhTuF6BABpY+C7wAkp0K8whR5TALrExov3ga0X5ZtThAmQeDQ8x5bA+beLEiQwnLP6sRMIAwMSLMZajWiJMzAxm8ODBLENi/QJeChgUfyPMa5IxHUSYwdxQl1mCyATaMAr86iyCgGz+wjZRF6gLJYAELn7IJA8E+AZRswAT5wGfTI5oIHEujIOwZjIbBp3T/JGkZ46MvIItYrZGdmEmCtTuWWrG9NlpJYikZB+lYSEmawOCukOYvjF244V/tv7khIKGd8QYBo3PjckO4zjbuRI6BJID53ao9YWWZsYPpZk1bDZSgVAIoFSxGpJPL1SCSOKtqTOSxMlPw+DBa8pkC+5hrZdOMhhajJlI1A5nrijCfODYSCEjkL9FXhrGUkwmzoUYsGgi0QZMR6BJ0+QwnQINZLdO70iqtiIgSf4DQxMfPL+g9NHaNBYGNDmQhRk3HR5XVuPgYwgKi+8iGYVOF1aEbl4+ALsyLXyTsxUY4bNn2lvsD9jW0rvVDB7nmr3AxlrfZOCr+MbgBnCuZIuucDQMV0aEnJM3YksPak63udCHbDingaTKg5wSl97psbPDOll9hKHT4+bd9O6IdG0d9mgmkmY/fLq2Ue2KLwLJkAcoI2YbRXxJ93tp+E7YKMsMGnuR39si+r2GAFYFvjsMykFNKF6jVvR4BIFkyAPp+EE7G6+pXRwWNIEihUDUCOBZZZ1CTp20UVenjOmBQDLkQXogpVYIAb8ggEuftSU4k/1CsOj0CAJJWm/qkdaKDCGQCQhgKWLnuZxSmdDX8W2j5EF88VRpQiDFCLC1lYX5rFVPMR2q3ocISB74sNNEshAIgQDbXNAM2KRqDk4IkUrRQiA4ApIHwXFRrBDwIwIcA8M+VXvHhh+bIJpTiIDkQQrBV9V/Y8s6J88IiLggwClYHPAZ6riXuFShQtIbAcmD9O5fr7eO8xe5PJVTaLxOqFfp47gec4QnYpXzPtlwwC5ZrxIruryOgNaber2H0pg+jvnjiGzOG8D/yal2adzSBDWN0zTN8X/s9+QAXY4q4tjkBNWlYjMBAekHmdDLHm0jd4Vy8hdHGXJYqUdJ9DZZ5rZttiJzqDW3qXCkvLfpFXVeR0DywOs9lK70caQuy2DgZZzrx3F+5nS/dG1sgtrF7ermJBj+cnkAR6Zzn0SC6lKxmYCA5EEm9LIX28g9cfbqUIQBx9N7kUoP08QNE0hTSyD303HnKyLWxiggBHKKgORBThFT+vggwO0fnL5pyjIWj/iUmzGloBxgajPN5XI6Thrv3Lmzvaw0Y2BQQ+OJgORBPNFUWREiwJUPXCtoE2P7xgJuHxXIFgEkwaxZs9CrOBWRy164N3D58uWsNA28ajTbopRACFgEtL7IQqFA8hDgolc8yeyh5do/hAF/uUmNW650BWaEfcA1SqREJ6hXr94jjzzCfZARZlQyIRAGAcmDMODoVaIQ4Obxyy+/nM1oTz/9NMeunXXWWVxHntO7vxNFnB/K5fZ5NAOUKl2e4Yfu8g2Nkge+6ap0IpQL/xo0aECLcCNzkyinLKRT65LQFraejRw5MgkVqYqMQkD+g4zqbs81luvhvv76a8+R5XmCuFzP8zSKQP8hIHngvz5LJ4q5O2/v3r3p1CK1RQj4FwHJA//2XTpQfvbZZ3PQQjq0RG0QAv5HQPLA/33o5xbgQ965c6fdmObnpoh2IeB7BCQPfN+Fvm4Ay4rKli27YcMGX7dCxAuB9EBA8iA9+tHHrWCh0Zw5c3zcAJEuBNIFAcmDdOlJ37ajUaNGc+fO9S35IlwIpA8Ckgfp05c+bUmtWrXWr1//3Xff+ZR+kS0E0gYByYO06Uq/NoRDF5o1a8Zdj35tgOgWAumCgORBuvSkn9tx6623Pv/889yI4MdGvPPOOxC/Zs2aQOJXrFjBq3nz5gW+yjYGAcmpf+GTvfLKK6tXrw6fRm+FQOQISB5EjpVSJgqBqlWrlihRwqde5TFjxnALNIfKBaLDgaO8mjRpUuCrbGP69OmzZMmS8MkGDhzIQUbh0+itEIgcAcmDyLFSygQiwKXwcEBz21cCq0lM0fnz50cJ+Oqrr5zFb9q0admyZbxyRiosBLyMgOSBl3sng2hr3LgxGxE47tSPba5WrVqpUqWmTJniJB61oHLlyq4L7rnFbNGiRRz3zZIqlwv90KFDRI4ePfqDDz5wlmPCCJtp06ZNnjyZ7XuBbxUjBOKCgORBXGBUIXFAYMCAAU899dSePXviUFZyi8iVK9e11147ceJEWy2+EHh3mzZtbAwBNAYW17Zt2xa7f5cuXWrXrm1ZP24AbjK45ZZbXnvttY5//pzelKlTp7IK69FHHx01ahSyZ9iwYc5iFRYC8UJA8iBeSKqcWBHgUpfu3btz1Rf3IsRaVtLzIw+48W3VqlWm5gULFnBua6tWrSwh3GWGDOAWoKVLl+IpQQDA2REA33//Paz/9ttvx4OCU5pXuJGxm9m7MLdu3XrnnXciLHEnID8mTJiA28AKElu+AkIgdgQkD2LHUCXEDYGbb775ggsuYLmRc3Yct9ITWdBpp51Wt25dqyJgLMICVqhQIVvnypUrkRb4SIoXL05k3rx5hw4d+u2333KnDW4GTuzo2bPniSeeaF7B8W3G8ePHY0lDZzAxTZo0QclAKtgECgiBeCEgeRAvJFVOfBAYNGjQ4cOHW7ZsySWa8SkxWaVgCHrjjTfwEOAY4HJjHp01Yyzi0XmdGYKBH/FoALzC2WDTIwCMbCAGtWPjxo0c/Gd/CxcuJMYmVkAIxAsB3Y8WLyRVTnwQ4IQ7HKdXXnklxhZm2dykFp9yE18KN4Def//97777LrN+roZmFu+sk213PLpOcuWRBqIr8ApBYtNjXPr111/NI4KBU8F79epl3xIwpTljFBYCsSMg/SB2DFVCnBHAPYsVpUKFCs2bN/fRRPiEE0644oorkGFYjVq3bo1gc+Jyzjnn8Ojcm4b56ODBg5X+/LleLV682IoH9AauDMKMdtF/f1wyumvXLmfhCguBuCAgeRAXGFVInBHA7zp48GC4KkdZsNXLNa2Oc2XxK44FRawZZVuya2URNWACQuPp16/fW2+9hQ/5o48+uu2225j400Ac6ehDvXv3ZqsztiaEgfNC6euuuw5dgcRYlvbt28eC1CeffPL888+PH9UqSQj8hYDkgYaCdxGACbL/dtu2bbhqMSJZE4pnKWYJKY7lKlWqGG3ARSd8/KqrrrrjjjuQDQTYmsCWBSQfyUaMGHHppZey3IhIHA/33nuv9R+wo2369OkoBBROsWShnNNPP91VuB6FQOwI5MJSyZyF5Rz8jb04lZByBNLyenrMLMOHD2eC3L59++uvv75kyZIpwZnPxLDvWGqnkC+//BJP8rHHHusqB4GHaYjWBa2FZbjoSYULF3blSvRj8mtMdItUvgsBKwL+z8TpSqRHIeARBBr++cOXMG7cOO7PufDCC7Gl16lThyU3CaXwwIEDXO/8+eefsydg3bp1nMsNK4+xRng9OkTQQo455hj2OQd9RSQag1UaQqVRvBCIBQHJg1jQU96kIgD3x5fAIXF4mzn1AY3hyJEjmJLq16+PBQYmy5au3LlzR0ETzltM88zNN2/ejHmKBaBbtmwhgPaMiZ9fjRo10EsqVqwYReHKIgT8goDkgV96SnT+hQALNLGw8+OZ2TqCAd8sxzxs374dW9kpp5yCYODHXJt1nKzL5EcWHtnxi70FEQL3J8B5QRwKhBjgR2TRokUx1GCXL1OmDEtF+Vu6dGmZSjTsMgoByYOM6u50a+ypp57KQRH8TMM45gEJsWPHDg5BMqwfRs+PDQFY7fPkyYNgKFiwoAngpy1SpAhigL8nnXRSukGj9giBnCMgeZBzzJTDqwjgoWXtJj+vEii6hICnEdB6U093j4gTAkJACCQNAcmDpEGtioSAEBACnkZA8sDT3SPihIAQEAJJQ0DyIGlQqyIhIASEgKcRkDzwdPeIOCEgBIRA0hCQPEga1EmqKLoNWUkiTtX4DQENJ7/1WEz0Sh7EBJ8HM7PxyoNUiSSfIqDh5NOOi45syYPocPNuLrbjepc4UeY3BDSc/NZjMdEreRATfB7MzDUs+oY92C9+JImB5LrVx4+tEM2RIyB5EDlWvknJRV1S833TW14llCHEQPIqdaIrIQhIHiQE1tQWyn2THM4jLSG1veDr2hk8DCEGkq9bIeJzioDOL8opYv5Iz5fMWfl81Rzrxi0rv//+uz/oFpUpRYDVRKgFMhOltBNSWbnkQSrRT3TdGH91g0qiQVb5QiBtEJC9KG26Ug0RAkJACMSEgORBTPApsxAQAkIgbRCQPEibrlRDhIAQEAIxISB5EBN83s/MlZCjRo16++23LalcLUnM4cOHbUyoALcHk3LmzJmhEmQbz82UP/zwA3eTZZsyVAIohwb5w0Pho3ghEEcEJA/iCKYXizpw4MDUqVOXLFliiVuwYAExrDuyMaECyANScjtxqATZxj///PNXXnklt1dmmzJUgo8//hgaJA9C4aN4IRBHBLS+KI5g+qyo3bt3c8V8qVKlVq9ezULDqlWrms2oMN/169czr69SpYqzSQcPHly3bh3L0suXL8+qxO+//x5Gzw3Ge/fuRbqcc8453F28adMmLq0kI+uaUE2QRpSwZcsWHgsUKLBz587NmzdTF4lPPvlk5M2GDRu4u/ioo46ixhIlSpQtW9bUuGvXrq1bt1aoUMFJgMJCQAgkFAHJg4TC6+nCn3nmmU8++aRMmTLwYgitVavWwIEDEQY9evRYvnw5HB9RYRvw4YcfDho06LfffmM3A/KAMHlJ36BBg4ULF15yySUbN24cOXJk6dKlzeX1w4cPnzVrFrkoYfDgwXfddRf8ffLkycgPJA1yaOjQoWedddbtt99erlw5uD8xpOzevXuTJk2mTZtGUQgJLr5HilgaFBACQiChCMhelFB4vV449n0YOh4FpAKWGTg1zB1h0K5dOwz3V199tWkAzoYhQ4ZUr14dX8KwYcOY1E+aNMm8+uyzz3r37t2xY8e5c+eyjwkuj5ipX78+yge8vnnz5iQjpmHDhjB9CnzxxRf79ev3yy+/LF682JSA0kCZ/HikEGgYPXo0isKbb775wgsvROLnMOXorxAQAjEiIHkQI4Bezx545ABWGoi28Y0bN8Z0gwGHSExAWIQIXHbZZSRo1KgRk3QesQLBpjH13HPPPc899xxmJUxMxPNr3bo1EgVN4qKLLoLLX3PNNX379qVArE8mgfmLjejmm29GYPTv33/AgAFEWpcARiG4f+XKlfPly3fo0KHt27djfaK0vHnzFi1atFq1as5yFBYCQiBxCMhelDhsPVFykSJFoGPfvn2GGlj2tm3bsAVZOwxcmFfEmASYaAgcOXKEv5iGjPDAJcAjjJtpvkl2/PHHG99A4cKFTUzLli0RDOgW8+fPnzBhwv79+zH+mFf8xYjUpUsXxEb79u0RNg888IB9ZXdQG++FqcsQQBo0GJtSASEgBBKKgPSDhMKb+sKZqmOgx8KDxR+7EL4BOGzNmjWZsAcljlfEjx07Fm2Av0YeMH9HrqAlMGdHb2ABKOYgV/abbroJLl+3bt27776bNMgSEphaWNG0du1aZv34mevUqQMxvDIluwrhEcsVdeF7QAXBpoSXIjCNYoSAEEgEApIHiUDVW2X27NmzUqVKc+bMwY6/atUqODJmn1AkwrI7dOiwdOnSTp06sV7InHjMnL1Pnz5k6dat28MPP4xtp2nTpq4SEAPYlFq0aIEvAT2AvySgLkoYM2YM+gElv/7667iLjTxgtZKrBPOIlvDggw8S7tq1K05pY8gKmlKRQkAIxBeBXEzT8O+xY4i/8S1apXkKAZg1TJmpN6aebAnDrMSCH1aCulJiI8K8Y41LrreMom+++QaXQ6FChewrBhiaAZ4DlAaMSGgYkZyqTy6Kohxy2aIUEAJCIBEIWBEg/0Ei4PVimfBxfhFShkLALzBxwYIFAyNtDJLAuCtsDAEYupVAgW+dKZ1hclnPhDNeYSEgBBKHgOxFicNWJQsBISAE/ISA5IGfeku0CgEhIAQSh4DkQeKwVclCQAgIAT8hIHngp94SrUJACAiBxCGQJQ9wM7IvNHF1qGQhIASEgBDwLAIcTGD2pWbJA04F4IhKz9IqwoSAEBACQiBxCMD/ixUrRvlZ+w84l5ijCFgbHmpdeeLoUMlCQAgIASGQQgQ4SoCF4F988QUiIUs/4F+NGjU4cyaFNKlqISAEhIAQSD4C48ePh///Tz+AgkWLFnEyJSceczx98glSjUJACAgBIZB8BDAOFS9enHtKOHmM2v9aX8QDp1FWrFhRjoTkd4lqFAJCQAgkHwEOKDvzzDM5ttIIAwj4Sx4Q4jwyLqU699xzeW0Op0w+fapRCAgBISAEEo0AHB4+z5WIHE95ww032Oqy/Mn2gQCGI+4zWbZsGQdYokeYRUjOBAoLASEgBISATxFgawFGIM6Tx2cAq7eagWmOWx6YWIxKs2fP5hIVDsX0abNFthAQAkJACLgQYLcZGwy4FdE4kF1vg8sDVyI9CgEhIASEQNoj8D//Qdo3VQ0UAkJACAiBMAhIHoQBR6+EgBAQAhmEQPD7cLiaauLEiQYGLjnBsVy/fn3dT5JB40JNFQJCIPMQCO4/2Lp16y233MLxFfnz5+fqRFzSeCGefvrpEiVKZB5EarEQEAJCICMQyM2So8CGctf59OnTzz///GeffbZNmzZIBTawIR7Kly+/bds2rj/cuXPnnj178FMjKlavXr1r1y7S5MmTxxRF5IoVK1ibxK25Jj036Loy8vaTTz7ZuHHj77//fvLJJ5ORAvmxwnXlypVff/01hXPqHmnI67yPN5BaxQgBISAEhEDsCAS3F7nKLVOmDDGHDx9mX8LAgQMbNGiwcOHCSy65BE7dv39/Ll7nLZek9+rVq3r16oiKrl27cnU78uOMM87gmKRBgwbB2Z0ZkQE9evTghl5ubN+xY0fbtm1RR8aNGzdv3jxEzvr16ymwYcOGVIdoIdylS5fWrVsT0E8ICAEhIAQShEA4fzKcffTo0aNGjXrssceo/oILLjBEfPbZZ717927fvv3gwYMLFCgw5c8f+gGPf/zxB6cjHThwgFwzZszgrZNuk7Fjx47r1q1jIzQCgD1yzP0XLFhgkpG9efPm06ZNw1eBbEDYTJo0CbExf/58ZzkKCwEhIASEQNwRCCcP2I/GNrb33nuvYMGCTPnr1Kljqmeqjopw9NFHY9WpV68eTJ8f+9x4ZOfbpk2bTjnlFI5CIgHJnBSbjKVKlYLpszsOY9Rtt92G7xp1wSarXbs2vgocFagXVapU4SBWBAaqiU2ggBAQAkJACCQCgXD2Iow/jz76aGCtZqER03Ze/fzzzyYBbmcCMHEMR7gKeCQBdyo4s9sVSgMGDPj00087d+7cokULrElHjhyxyVjORDhXrly5c+e2kQoIASEgBIRAohEIJw/C183MnbPxsOqgInAIEgEeiUQnWLt2Le6BcuXKYTIKWsiWLVvwITdp0gTnwe7du/EiBE2mSCEgBISAEEgaAuHsRdkS8dBDD2Ea6tat23333YeFh0eytGrVqlOnTngCMB916NCBGDPld5bWsmVLLEscmYeTmRJwGjtNRs6UCgsBISAEhEByEAi+/yBHdbN2CPOOPQmVg/CWLl2K0xg/AR7muXPnvvzyy4FnJ7HelOVJ1oKUoxqVWAgIASEgBOKOQBzkgYsmbEGoCyxCxZHAPgYO1zZagiuZHoWAEBACQsBTCMRfHtA8nMxr1qwhwMYFs9fMU20WMUJACAgBIRCIQELkQWA1ihECQkAICAGPI/AfozdqcXsVSBQAAAAASUVORK5CYII=)\n",
        "\n",
        "## Import\n",
        "First you must import your data into R. This typically means that you take data stored in a file, database, or web application programming interface (API), and load it into a data frame in R. If you can’t get your data into R, you can’t do data science on it!\n",
        "\n",
        "## Wrangling\n",
        "\n",
        "### Tidy\n",
        "Once you’ve imported your data, it is a good idea to tidy it. Tidying your data means storing it in a consistent form that **matches the semantics** of the dataset with the way it is stored. In brief, when your data is tidy, each column is a **variable**, and each row is an **observation**. Tidy data is important because the consistent structure lets you focus your struggle on questions about the data, not fighting to get the data into the right form for different functions.\n",
        "\n",
        "### Transform\n",
        "Once you have tidy data, a common first step is to transform it. Transformation includes narrowing in on observations of interest (like all people in one city, or all data from the last year), creating new variables that are functions of existing variables (like computing speed from distance and time), and calculating a set of summary statistics (like counts or means). Together, tidying and transforming are called **wrangling**, because getting your data in a form that’s natural to work with often feels like a fight!\n",
        "\n",
        "Once you have tidy data with the variables you need, there are two main engines of knowledge generation: **visualisation** and **modelling**. These have complementary strengths and weaknesses so any real analysis will iterate between them many times.\n",
        "\n",
        "##Visualisation\n",
        "Visualisation is a fundamentally human activity. A good visualisation will show you things that you did not expect, or raise new questions about the data. A good visualisation might also hint that you’re asking the wrong question, or you need to collect different data. Visualisations can surprise you, but don’t scale particularly well because they require a human to interpret them.\n",
        "\n",
        "##Modelling\n",
        "Models are complementary tools to visualisation. Once you have made your questions sufficiently precise, you can use a model to answer them. Models are a fundamentally mathematical or computational tool, so they generally scale well. Even when they don’t, it’s usually cheaper to buy more computers than it is to buy more brains! But every model makes assumptions, and by its very nature a model cannot question its own assumptions. That means a model cannot fundamentally surprise you.\n",
        "\n",
        "##Communication\n",
        "The last step of data science is communication, an absolutely critical part of any data analysis project. It doesn’t matter how well your models and visualisation have led you to understand the data unless you can also communicate your results to others.\n",
        "\n",
        "##Programming\n",
        "Surrounding all these tools is programming. Programming is a cross-cutting tool that you use in every part of the project. You don’t need to be an expert programmer to be a data scientist, but learning more about programming pays off because becoming a better programmer allows you to automate common tasks, and solve new problems with greater ease.\n",
        "\n",
        "\n",
        "## Data-Table for more than 100 GB of data\n",
        "\n",
        "https://github.com/Rdatatable/data.table\n",
        "\n",
        "\n",
        "##Rectangular data\n",
        "\n",
        "Rectangular data: collections of values that are each associated with a variable and an observation. There are lots of datasets that do not naturally fit in this paradigm, including images, sounds, trees, and text. But rectangular data frames are extremely common in science and industry.\n",
        "\n",
        "\n",
        "\n",
        "##Hypothesis confirmation\n",
        "It’s possible to divide data analysis into two camps: hypothesis generation and hypothesis confirmation (sometimes called confirmatory analysis). The focus of this book is unabashedly on hypothesis generation, or data exploration. Here you’ll look deeply at the data and, in combination with your subject knowledge, generate many interesting hypotheses to help explain why the data behaves the way it does. You evaluate the hypotheses informally, using your scepticism to challenge the data in multiple ways.\n",
        "\n",
        "The complement of hypothesis generation is hypothesis confirmation. Hypothesis confirmation is hard for two reasons:\n",
        "\n",
        "You need a precise mathematical model in order to generate falsifiable predictions. This often requires considerable statistical sophistication.\n",
        "\n",
        "You can only use an observation once to confirm a hypothesis. As soon as you use it more than once you’re back to doing exploratory analysis. This means to do hypothesis confirmation you need to “preregister” (write out in advance) your analysis plan, and not deviate from it even when you have seen the data. We’ll talk a little about some strategies you can use to make this easier in modelling.\n",
        "\n",
        "It’s common to think about modelling as a tool for hypothesis confirmation, and visualisation as a tool for hypothesis generation. But that’s a false dichotomy: models are often used for exploration, and with a little care you can use visualisation for confirmation. The key difference is how often do you look at each observation: if you look only once, it’s confirmation; if you look more than once, it’s exploration.\n",
        "\n"
      ],
      "metadata": {
        "id": "fWGY5p7rqMW1"
      }
    }
  ]
}